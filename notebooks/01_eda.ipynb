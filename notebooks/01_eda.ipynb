{
 "cells": [
  {
   "cell_type": "code",
   "execution_count": null,
   "id": "baf324e1",
   "metadata": {},
   "outputs": [],
   "source": [
    "import pandas as pd\n",
    "import pretty_midi\n",
    "import os "
   ]
  },
  {
   "cell_type": "code",
   "execution_count": null,
   "id": "9700f120",
   "metadata": {},
   "outputs": [],
   "source": [
    "DATA_ROOT = \"data/raw/maestro-v3.0.0\"\n",
    "METADATA_PATH = os.path.join(DATA_ROOT, \"maestro-v3.0.0.csv\")\n"
   ]
  },
  {
   "cell_type": "code",
   "execution_count": null,
   "id": "a279c293",
   "metadata": {},
   "outputs": [],
   "source": [
    "try:\n",
    "    df = pd.read_csv(METADATA_PATH)\n",
    "    print(\"Successfully loaded Maestro Dataset\")\n",
    "    print(\"First five entries are: \")\n",
    "    display(df.head())\n",
    "except FileNotFoundError:\n",
    "    print(f\"Error: Could not find metadata file at {METADATA_PATH}\")\n",
    "    print(\"Make sure the path is correct.\")"
   ]
  },
  {
   "cell_type": "code",
   "execution_count": null,
   "id": "468f3b0d",
   "metadata": {},
   "outputs": [],
   "source": [
    "if 'df' in locals():\n",
    "    sample_midi_path_relative = df.iloc[0]['midi_filename']\n",
    "    sample_midi_path_full = os.path.join(DATA_ROOT, sample_midi_path_relative)\n",
    "    \n",
    "    print(f\"\\nAttempting to load a sample MIDI file: {sample_midi_path_full}\")\n",
    "    \n",
    "    \n",
    "    try:\n",
    "        midi_data = pretty_midi.PrettyMIDI(sample_midi_path_full)\n",
    "        \n",
    "        \n",
    "        print(\"Successfully loaded MIDI file!\")\n",
    "        print(f\"   -> Duration: {midi_data.get_end_time():.2f} seconds\")\n",
    "        print(f\"   -> Contains {len(midi_data.instruments)} instrument(s)\")\n",
    "        \n",
    "        \n",
    "        piano = midi_data.instruments[0]\n",
    "        print(f\"    -> The piano has {len(piano.notes)} notes.\")\n",
    "        \n",
    "    except Exception as e:\n",
    "        print(f\"Error loading MIDI file: {e}\")\n",
    "    "
   ]
  }
 ],
 "metadata": {
  "kernelspec": {
   "display_name": ".venv",
   "language": "python",
   "name": "python3"
  },
  "language_info": {
   "codemirror_mode": {
    "name": "ipython",
    "version": 3
   },
   "file_extension": ".py",
   "mimetype": "text/x-python",
   "name": "python",
   "nbconvert_exporter": "python",
   "pygments_lexer": "ipython3",
   "version": "3.13.6"
  }
 },
 "nbformat": 4,
 "nbformat_minor": 5
}
